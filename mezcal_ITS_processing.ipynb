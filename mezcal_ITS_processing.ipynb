{
 "cells": [
  {
   "cell_type": "code",
   "execution_count": null,
   "id": "e39bc0d3",
   "metadata": {},
   "outputs": [],
   "source": [
    "##PROCESSING OF ITS SEQUENCES##"
   ]
  },
  {
   "cell_type": "code",
   "execution_count": null,
   "id": "77eecf13",
   "metadata": {},
   "outputs": [],
   "source": [
    "#A list of files to assembly is generated.\n",
    "ls *.fastq.gz | perl -pe 's/_R.*.fastq.gz//g' | sort | uniq > lista"
   ]
  },
  {
   "cell_type": "code",
   "execution_count": null,
   "id": "ebbc5727",
   "metadata": {},
   "outputs": [],
   "source": [
    "#Use assembly sh script\n",
    "The \"assembly.sh\" scrip generates the works to assembly files from list."
   ]
  },
  {
   "cell_type": "code",
   "execution_count": null,
   "id": "741cb90b",
   "metadata": {},
   "outputs": [],
   "source": [
    "#!/bin/bash\n",
    "# Use: bash assemblyCASPER.sh NOMBRE_TRABAJO\n",
    "\n",
    "SEQS=$(pwd)\n",
    "SALIDAS=$(pwd)\n",
    "BIN=/usr/local/bin\n",
    "COUNT=0\n",
    "\n",
    "for FAA in `cat lista`\n",
    "do\n",
    "let COUNT=COUNT+1\n",
    "echo \"#!/bin/bash\" >$*.$COUNT.scr\n",
    "echo \"#$ -cwd\" >>$*.$COUNT.scr\n",
    "echo \"#$ -j y\" >>$*.$COUNT.scr\n",
    "echo \"#$ -S /bin/bash\" >>$*.$COUNT.scr\n",
    "\n",
    "echo \"$BIN/casper <(cat $SEQS/$FAA\"_R1.fastq\") <(cat($SEQS/$FAA\"_R2.fastq\") -o $FAA.assembly.fastq -o $FAA\"_assembly\"\" >>$*.$COUNT.scr\n",
    "\n",
    "done"
   ]
  },
  {
   "cell_type": "code",
   "execution_count": null,
   "id": "d5b2e7c8",
   "metadata": {},
   "outputs": [],
   "source": [
    "#Quality filter, remove sequence with Quality score lower than 20. \n",
    "#This step is made to remove low quality assemblies\n",
    "\n",
    "#!/bin/bash\n",
    "SEQS=$(pwd)\n",
    "SALIDAS=$(pwd)\n",
    "for FAA in `cat lista`\n",
    "do\n",
    "let COUNT=COUNT+1\n",
    "echo \"#!/bin/bash\" >$*.$COUNT.scr\n",
    "echo \"#$ -cwd\" >>$*.$COUNT.scr\n",
    "echo \"#$ -j y\" >>$*.$COUNT.scr\n",
    "echo \"#$ -S /bin/bash\" >>$*.$COUNT.scr\n",
    "\n",
    "echo fastq_quality_filter -q 20 -p 80 -i \"$SEQS/$FAA\".fastq -o \"$SEQS/$FAA\"_tr.fastq >>$*.$COUNT.scr\n",
    "\n",
    "done"
   ]
  },
  {
   "cell_type": "code",
   "execution_count": null,
   "id": "bf53e286",
   "metadata": {},
   "outputs": [],
   "source": [
    "#Transform filtered sequences to fasta\n",
    "for x in `cat lista`; do sed -n '1~4s/^@/>/p;2~4p' \"$x\"_tr.fastq > \"$x\"_ensamble.fasta"
   ]
  },
  {
   "cell_type": "code",
   "execution_count": null,
   "id": "690ced93",
   "metadata": {},
   "outputs": [],
   "source": [
    "Sequences names are changed with “header.fasta.numbers.pl”.\n",
    "\n",
    "# Luis David Alcaraz 2013-04-11\n",
    "\n",
    "my $prefix = $ARGV[0]; chomp $prefix;\n",
    "my $f =  1;\n",
    "\n",
    "my $fasta_file = $ARGV [1]; chomp $fasta_file;\n",
    "\n",
    "my $fh;\n",
    "open($fh, $fasta_file) or die \"can't open $fasta_file: $!\\n\";\n",
    "open(OUT, \">$fasta_file.numbered.fas\") || die \"can't open $fasta_file.numbered.f\n",
    "as\\n\";\n",
    "\n",
    "my %sequence_data;\n",
    "while (read_fasta_sequence($fh, \\%sequence_data)) {\n",
    "   print OUT \">$sequence_data{header}\\n$sequence_data{seq}\\n\";\n",
    "}\n",
    "\n",
    "close $fh;\n",
    "close OUT;\n",
    "\n",
    "sub read_fasta_sequence {\n",
    "   my ($fh, $seq_info) = @_;\n",
    "\n",
    "$seq_info->{seq} = undef; # clear out previous sequence\n",
    "\n",
    "   # put the header into place\n",
    "   $seq_info->{header} = $seq_info->{next_header} if $seq_info->{next_header};\n",
    "\n",
    "   my $file_not_empty = 0;\n",
    "   while (<$fh>) {\n",
    "      $file_not_empty = 1;\n",
    "      next if /^\\s*$/;  # skip blank lines\n",
    "      chomp;    \n",
    "\n",
    "      if (/^>/) { # fasta header line\n",
    "         my $h = $_;    \n",
    "         $h =~ s/>/$prefix\\_$f\\ /;\n",
    "     $f++;\n",
    "         if ($seq_info->{header}) {\n",
    "            $seq_info->{next_header} = $h;\n",
    "            return $seq_info;\n",
    "       \n",
    "         }              \n",
    "         else { # first time through only\n",
    "            $seq_info->{header} = $h;\n",
    "         }              \n",
    "      }         \n",
    "      else {    \n",
    "         s/\\s+//;  # remove any white space\n",
    "         s/\\n\\n/\\n/;\n",
    "         $seq_info->{seq} .= $_;\n",
    "      }         \n",
    "   }    \n",
    "\n",
    "   if ($file_not_empty) {\n",
    "      return $seq_info;\n",
    "   }    \n",
    "   else {\n",
    "      # clean everything up\n",
    "      $seq_info->{header} = $seq_info->{seq} = $seq_info->{next_header} = undef;\n",
    "\n",
    "      return;   \n",
    "   }    \n",
    "}"
   ]
  },
  {
   "cell_type": "code",
   "execution_count": null,
   "id": "c44ba8db",
   "metadata": {},
   "outputs": [],
   "source": [
    "#Run the script for each sample\n",
    "for N in `ls *_ensamble.fasta`; do perl header.fasta.numbers.pl $N $N\"_ensamble.fasta\""
   ]
  },
  {
   "cell_type": "code",
   "execution_count": null,
   "id": "26fca562",
   "metadata": {},
   "outputs": [],
   "source": [
    "#Concatenate all samples\n",
    "cat *.numbered.fas > mezcal_fun.fas"
   ]
  },
  {
   "cell_type": "code",
   "execution_count": null,
   "id": "c843c542",
   "metadata": {},
   "outputs": [],
   "source": [
    "#Edit sequence name to leave only the first part, which refers to sample name. \n",
    "perl -i.bak -pe \"s/\\ .*//g\" mezcal_fun.fas"
   ]
  },
  {
   "cell_type": "code",
   "execution_count": null,
   "id": "f18def1e",
   "metadata": {},
   "outputs": [],
   "source": [
    "#Sequence clustering of OTUs at 97%  of identity was done with cd-hit-est, -c indicates the identity for clustering.\n",
    "#!/bin/bash\n",
    "#$ -cwd\n",
    "#$ -j y\n",
    "#$ -S /bin/bash\n",
    "cd-hit-est -i mezcal_fun.fas -c 0.97 -o mezcal_fun.fasout -T 20 -M 0"
   ]
  },
  {
   "cell_type": "code",
   "execution_count": null,
   "id": "0e0ce503",
   "metadata": {},
   "outputs": [],
   "source": [
    "#The clustering file is converted in a file that can be read by QIIME.\n",
    "perl -pne 's/\\t//g;s/^.*,//g;s/\\.\\.\\..*$//g;s/\\n/\\t/g;s/\\>Cluster\\ /\\n/g;s/\\>//g; eof && do{chomp; print \"$_ \\n\"; exit}' mezcal_fun.fasout.clstr > mezcal_fun.otu\n",
    "sed -i '1d' mezcal_fun.otu"
   ]
  },
  {
   "cell_type": "code",
   "execution_count": null,
   "id": "f0324e75",
   "metadata": {},
   "outputs": [],
   "source": [
    "## Extract representative OTUs, -i indicates input file, -f is the fasta file with the sequences to be extracted. \n",
    "\n",
    "#!/bin/bash\n",
    "#$ -cwd\n",
    "#$ -j y\n",
    "#$ -S /bin/bash\n",
    "pick_rep_set.py -i mezcal_fun.otu -f mezcal_fun.fas -o mezcal_fun.rep.fna"
   ]
  },
  {
   "cell_type": "code",
   "execution_count": null,
   "id": "ecc47cbc",
   "metadata": {},
   "outputs": [],
   "source": [
    "#Assign taxonomy against most recent UNITE database. We use the complete database to accuretly assign non fungal taxa\n",
    "\n",
    "parallel_assign_taxonomy_blast.py -i mezcal_fun.rep.fna -o taxonomy -r /home/cristobal/DB/unite_8.3/sh_qiime_release_all_10.05.2021/sh_refs_qiime_ver8_97_all_10.05.2021.fasta -t /home/cristobal/DB/unite_8.3/sh_qiime_release_all_10.05.2021/sh_taxonomy_qiime_ver8_97_all_10.05.2021.txt\n",
    "\n",
    "#Create a list of fungal ITS sequences\n",
    "cat taxonomy/mezcal_fun.rep_tax_assignments.txt | grep \"k__Fungi\" | cut -f1 >ids_screened.txt\n",
    "\n",
    "#Create a list of sequences that are not fungi\n",
    "cat taxonomy/mezcal_fun.rep_tax_assignments.txt | grep -v \"k__Fungi\" | cut -f1 >ids_REMOVE_biom.txt\n",
    "\n",
    "#Extract ITS sequences from ITS list and make a new representative file\n",
    "perl -ne 'if(/^>(\\S+)/){$c=$i{$1}}$c?print:chomp;$i{$_}=1 if @ARGV' ids_screened.txt mezcal_fun.rep.fna > mezcal_fun.screened.fna"
   ]
  },
  {
   "cell_type": "code",
   "execution_count": null,
   "id": "2477c97d",
   "metadata": {},
   "outputs": [],
   "source": [
    "#Make biom object\n",
    "\n",
    "make_otu_table.py -i mezcal_fun.otu -t taxonomy/mezcal_fun.rep_tax_assignments.txt -o mezcal_fun.biom \n",
    "\n",
    "#Remove singletons and non fungal sequences. Chimeras are removed later\n",
    "\n",
    "filter_otus_from_otu_table.py -i mezcal_fun.biom -e ids_REMOVE_biom.txt -o mezcal_fun_screened.biom -n2 "
   ]
  },
  {
   "cell_type": "code",
   "execution_count": null,
   "id": "fca134a0",
   "metadata": {},
   "outputs": [],
   "source": [
    "#Remove chimeras from representative sequences\n",
    "\n",
    "#Identify chimera\n",
    "\n",
    "parallel_identify_chimeric_seqs.py -m blast_fragments -i mezcal_fun.screened.fna -o mezcal_fun.chimera.txt -X mezcal_funblast --id_to_taxonomy_fp /home/cristobal/DB/unite_8.3/sh_qiime_release_all_10.05.2021/sh_taxonomy_qiime_ver8_97_all_10.05.2021.txt -r /home/cristobal/DB/unite_8.3/sh_qiime_release_all_10.05.2021/sh_refs_qiime_ver8_97_all_10.05.2021.fasta\n",
    "\n",
    "\n",
    "#Filter chimeric sequences from biom table\n",
    "\n",
    "filter_otus_from_otu_table.py -i mezcal_fun_screened.biom -e mezcal_fun.chimera.txt -o mezcal_fun_chimera.biom"
   ]
  },
  {
   "cell_type": "code",
   "execution_count": null,
   "id": "39ed7342",
   "metadata": {},
   "outputs": [],
   "source": [
    "#Create tables\n",
    "biom convert --to-tsv -i mezcal_fun_chimera.biom -o mezcal_fun.biom.tsv --table-type \"Taxon table\" --header-key=taxonomy\n",
    "\n",
    "#Remove OTUs labeled as \"None\"\n",
    "grep -v 'None' mezcal_fun.biom.tsv > mezcal_fun_filt.biom.tsv; mv mezcal_fun_filt.biom.tsv mezcal_fun.biom.tsv"
   ]
  },
  {
   "cell_type": "code",
   "execution_count": null,
   "id": "e18cf9c6",
   "metadata": {},
   "outputs": [],
   "source": [
    "#Split taxonomy table from OTU table.\n",
    "perl -pe 's/\\; /\\;/g' mezcal_fun.biom.tsv | awk '{print $1,\"\\t\",$NF}' | perl -pe 's/\\;/\\t/g' > fun_mp_tax.tsv\n",
    "\n",
    "#Split OTU abundance for sample from OTU table: \n",
    "cut -f 1-87 mezcal_fun.biom.tsv > fun_mp_otu.tsv"
   ]
  }
 ],
 "metadata": {
  "kernelspec": {
   "display_name": "R",
   "language": "R",
   "name": "ir"
  },
  "language_info": {
   "codemirror_mode": "r",
   "file_extension": ".r",
   "mimetype": "text/x-r-source",
   "name": "R",
   "pygments_lexer": "r",
   "version": "4.1.2"
  }
 },
 "nbformat": 4,
 "nbformat_minor": 5
}
